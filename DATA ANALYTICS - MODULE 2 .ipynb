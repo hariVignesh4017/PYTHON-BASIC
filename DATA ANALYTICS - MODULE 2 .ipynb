{
 "cells": [
  {
   "cell_type": "markdown",
   "metadata": {},
   "source": []
  },
  {
   "cell_type": "markdown",
   "metadata": {},
   "source": []
  },
  {
   "cell_type": "markdown",
   "metadata": {},
   "source": [
    "                                                                 PYTHON BASICS"
   ]
  },
  {
   "cell_type": "markdown",
   "metadata": {},
   "source": [
    "# 1.What is Python, and why is it popular?\n",
    "Python is a high-level, interpreted programming language known for its readability, simplicity, and versatility, Python is popular because of its key features like ease of learning,web development ,automation, Software development, intrepreted language, Dynamic typing, extended library, object oriented and Funcional etc..."
   ]
  },
  {
   "cell_type": "markdown",
   "metadata": {},
   "source": [
    "#  2.What is an interpreter in Python?\n",
    "An interpreter in Python is a program that reads and executes Python code line by line, translating it into machine code or intermediate code that the computer can execute directly. It works in the base of read,parse,execute and repeat."
   ]
  },
  {
   "cell_type": "markdown",
   "metadata": {},
   "source": [
    "# 3.What are pre-defined keywords in Python?\n",
    "In Python, pre-defined keywords (also called reserved words) are words that have special meanings and are reserved by the Python language for specific syntactic purposes. For ex - False, True, None,and, or, not,if, elif, else,break, continue,etcc\n"
   ]
  },
  {
   "cell_type": "markdown",
   "metadata": {},
   "source": [
    "# 4.Can keywords be used as variable names?\n",
    "No, keywords in Python cannot be used as variable names. Keywords are reserved by the Python language for specific syntactical purposes and have special meanings within the language. Attempting to use a keyword as a variable name will result in a syntax error.\n",
    "for ex if = 25 #syntax error will be resulted."
   ]
  },
  {
   "cell_type": "markdown",
   "metadata": {},
   "source": [
    "# 5.What is mutability in Python?\n",
    "Mutability in Python refers that the objects whose state or contents can be changed after they are created. If you modify a mutable object, the changes will be reflected in all references to that object."
   ]
  },
  {
   "cell_type": "markdown",
   "metadata": {},
   "source": [
    "# 6.Why are lists mutable, but tuples are immutable?\n",
    "The difference between lists and tuples in Python, specifically in terms of mutability, is primarily due to design choices related to efficiency, flexibility, and intended use cases.\n",
    "Lists are designed to be flexible and dynamic. They are intended to be used when you need to modify a collection of items over time, like adding elements, removing elements, or updating elements. \n",
    " Tuples are designed to be used when you need a fixed, unchanging collection of items."
   ]
  },
  {
   "cell_type": "markdown",
   "metadata": {},
   "source": [
    "# 7. What is the difference between “==” and “is” operators in Python?\n",
    " In Python, == and is are both used for comparison, but they serve different purposes and are used in different contexts.When you use ==, Python compares the actual contents or values of the objects, regardless of whether they are the same object in memory. When you use is, Python checks whether both operands point to the exact same object in memory, not whether the contents of the objects are equal."
   ]
  },
  {
   "cell_type": "markdown",
   "metadata": {},
   "source": [
    "#  8. What are logical operators in Python?\n",
    "In Python, logical operators are used to combine conditional statements (expressions that evaluate to True or False) to create more complex conditions. \n",
    "1. AND\n",
    "2. OR\n",
    "3. NOT"
   ]
  },
  {
   "cell_type": "markdown",
   "metadata": {},
   "source": [
    " # 9. What is type casting in Python?\n",
    " Type casting in Python refers to the process of converting one data type into another.This is useful when you need to ensure that data is in a specific format or type for operations that require it. it has two types of casting which are explicit and implicit."
   ]
  },
  {
   "cell_type": "markdown",
   "metadata": {},
   "source": [
    "# 10. What is the difference between implicit and explicit type casting?\n",
    "Implicit type casting, also known as automatic type conversion, occurs automatically when Python internally converts one data type to another. This happens when the conversion is safe and doesn't result in data loss, and it’s typically done in cases where a smaller or simpler data type needs to be converted to a larger or more complex one.\n",
    "Examples of Implicit Casting:\n",
    "Converting from an integer to a float when performing operations involving both integers and floats.\n",
    " \n",
    " Explicit type casting, also called manual type conversion, occurs when the programmer explicitly tells Python to convert a value from one type to another. This is done using built-in functions like int(), float(), str(), etc.\n",
    " Examples of Explicit Casting:\n",
    "Converting a string that represents a number to an integer (int())."
   ]
  },
  {
   "cell_type": "markdown",
   "metadata": {},
   "source": [
    "# 11. What is the purpose of conditional statements in Python?\n",
    "Conditional statements in Python are used to make decisions in a program by allowing the execution of certain code based on whether a given condition or expression is True or False. They are essential for controlling the flow of a program, enabling it to react differently to different situations.\n",
    "Some are\n",
    "Control program flow\n",
    "Decision making\n",
    "Branching \n",
    "Handlind different section"
   ]
  },
  {
   "cell_type": "markdown",
   "metadata": {},
   "source": [
    "# 12. How does the elif statement work?\n",
    "The elif (short for \"else if\") statement in Python is used to check multiple conditions in sequence. It allows you to specify additional conditions to test, beyond the initial if statement. If the if condition is False, Python will move on to the elif condition(s) and test those, and finally, if none of the conditions are True, the else block (if present) will execute.\n",
    "How elif Works:\n",
    "First, the program evaluates the condition in the if statement.\n",
    "If the if condition is False, it evaluates the next condition in the elif block.\n",
    "If the elif condition is True, the code inside the elif block executes, and the rest of the elif/else chain is skipped.\n",
    "If none of the if or elif conditions are True, and if there is an else block, the code inside the else block is executed.\n",
    "age = int(input(\"Enter your age: \"))\n",
    "\n",
    "if age >= 18:\n",
    "    print(\"You are an adult.\")\n",
    "elif age >= 13:\n",
    "    print(\"You are a teenager.\")\n",
    "else:\n",
    "    print(\"You are a baby.\")"
   ]
  },
  {
   "cell_type": "markdown",
   "metadata": {},
   "source": [
    "# 13. What is the difference between for and while loops?\n",
    "A for loop is typically used to iterate over a sequence (such as a list, tuple, string, or range) and execute a block of code for each element in the sequence.Iterates over a sequence (e.g., list, tuple, range).Controlled by the sequence being iterated over.Terminates after processing all elements in the sequence.\n",
    "A while loop continues to execute as long as a given condition is True. It checks the condition before every iteration, and if the condition is True, it executes the block of code. Once the condition becomes False, the loop stops.Iterates as long as a condition is True.Controlled by a boolean condition.Terminates when the condition becomes False."
   ]
  },
  {
   "cell_type": "markdown",
   "metadata": {},
   "source": [
    " # 14. Describe a scenario where a while loop is more suitable than a for loop?\n",
    " Scenario: User Input Validation\n",
    "Imagine you're developing a program where the user is prompted to enter a valid password, and the program should keep asking the user until they enter a password that meets certain criteria (e.g., at least 8 characters long and contains both letters and numbers). The number of attempts isn't fixed, because the program should keep asking the user for input until they provide a valid one.\n",
    "\n",
    "In this case, a while loop is more suitable than a for loop because you don't know how many attempts the user will need to provide a valid input — the loop should continue indefinitely until the user enters a valid password.\n",
    "Key Takeaways:\n",
    "While Loop: Ideal for scenarios where you don’t know the number of iterations in advance, and you need the loop to continue as long as a condition remains true (e.g., asking the user for valid input until it's correct).\n",
    "For Loop: More suitable when you know the exact number of iterations or need to iterate over a collection of known size (e.g., looping through a list of items)."
   ]
  },
  {
   "cell_type": "code",
   "execution_count": 1,
   "metadata": {},
   "outputs": [
    {
     "name": "stdout",
     "output_type": "stream",
     "text": [
      "Hello, World!\n"
     ]
    }
   ],
   "source": [
    "# 1.Write a Python program to print \"Hello, World!\n",
    "print(\"Hello, World!\")"
   ]
  },
  {
   "cell_type": "code",
   "execution_count": 2,
   "metadata": {},
   "outputs": [
    {
     "name": "stdout",
     "output_type": "stream",
     "text": [
      "Name: Hari\n",
      "Age: 27\n"
     ]
    }
   ],
   "source": [
    "# 2.Write a Python program that displays your name and age?\n",
    "name = input(\"Enter your name: \")\n",
    "age = int(input(\"Enter your age: \"))\n",
    "print(\"Name:\", name)\n",
    "print(\"Age:\", age)"
   ]
  },
  {
   "cell_type": "code",
   "execution_count": 7,
   "metadata": {},
   "outputs": [
    {
     "data": {
      "text/plain": [
       "['False',\n",
       " 'None',\n",
       " 'True',\n",
       " 'and',\n",
       " 'as',\n",
       " 'assert',\n",
       " 'async',\n",
       " 'await',\n",
       " 'break',\n",
       " 'class',\n",
       " 'continue',\n",
       " 'def',\n",
       " 'del',\n",
       " 'elif',\n",
       " 'else',\n",
       " 'except',\n",
       " 'finally',\n",
       " 'for',\n",
       " 'from',\n",
       " 'global',\n",
       " 'if',\n",
       " 'import',\n",
       " 'in',\n",
       " 'is',\n",
       " 'lambda',\n",
       " 'nonlocal',\n",
       " 'not',\n",
       " 'or',\n",
       " 'pass',\n",
       " 'raise',\n",
       " 'return',\n",
       " 'try',\n",
       " 'while',\n",
       " 'with',\n",
       " 'yield']"
      ]
     },
     "execution_count": 7,
     "metadata": {},
     "output_type": "execute_result"
    }
   ],
   "source": [
    "# 3. Write code to print all the pre-defined keywords in Python using the keyword library\n",
    "#it can simply listed Using \n",
    "\n",
    "import keyword\n",
    "keyword.kwlist"
   ]
  },
  {
   "cell_type": "code",
   "execution_count": null,
   "metadata": {},
   "outputs": [],
   "source": [
    "4.#Write a program that checks if a given word is a Python keyword?\n",
    "import keyword\n",
    "word = input(\"Enter a word to check if it is a Python keyword: \")\n",
    "if keyword.iskeyword(word):\n",
    "    print(f\"'{word}' is a Python keyword.\")\n",
    "else:\n",
    "    print(f\"'{word}' is not a Python keyword.\")\n"
   ]
  },
  {
   "cell_type": "code",
   "execution_count": 5,
   "metadata": {},
   "outputs": [],
   "source": [
    "5 #Create a list and tuple in Python, and demonstrate how attempting to change an element works differently \n",
    "for each?\n",
    "#for list\n",
    "list=[4,5,\"Hari\",\"manoj\"]\n",
    "list[2]=6\n",
    "list\n",
    "#this code will result in replacement of \"6\" in list[2]\n",
    "#therefore list is mutable which an object can be replaced by new word.\n",
    "\n",
    "#for tuple\n",
    "a=(1,3,5,9)\n",
    "a(1)==5\n",
    "\n",
    "#here this will result in object is not callable\n",
    "\n"
   ]
  },
  {
   "cell_type": "code",
   "execution_count": null,
   "metadata": {},
   "outputs": [],
   "source": [
    "6 #Write a function to demonstrate the behavior of mutable and immutable arguments?\n",
    "# Mutable example: List\n",
    "my_list = [1, 2, 3]\n",
    "print(my_list)  # Output: [1, 2, 3]\n",
    "\n",
    "# Modify the list\n",
    "my_list[0] = 10\n",
    "print(my_list)\n",
    "\n",
    "#The data which is assigned for the my_list[0] will be changed to [10] \n",
    " \n",
    "# #Here the mutable arguments can be replaced\n",
    "\n",
    "# Immutable example: String\n",
    "my_string = \"Hello\"\n",
    "print(my_string)  # Output: Hello\n",
    "\n",
    "# Try to modify the string\n",
    "# This will not modify 'my_string', but create a new string\n",
    "new_string = my_string.replace('H', 'h')\n",
    "print(new_string)  # Output: hello\n",
    "print(my_string)  # Output: Hello (original string remains unchanged)"
   ]
  },
  {
   "cell_type": "code",
   "execution_count": null,
   "metadata": {},
   "outputs": [],
   "source": [
    "7 #Write a function to demonstrate the behavior of mutable and immutable arguments?\n",
    "#same ans a/m in Q No.6."
   ]
  },
  {
   "cell_type": "code",
   "execution_count": null,
   "metadata": {},
   "outputs": [],
   "source": [
    "8 #Write a program to demonstrate the use of logical operators?\n",
    "#logical operators are classified into three types\n",
    "1. and \n",
    "2. or\n",
    "3. not\n",
    "\n",
    "#for and\n",
    "x = 5\n",
    "y = 10\n",
    "\n",
    "# Both conditions must be true for the result to be true\n",
    "if x > 3 and y < 15:\n",
    "    print(\"Both conditions are True.\")\n",
    "else:\n",
    "    print(\"At least one condition is False.\")\n",
    "\n",
    "#or operator\n",
    "\n",
    "x = 5\n",
    "y = 10\n",
    "\n",
    "# At least one condition must be true for the result to be true\n",
    "if x > 10 or y < 15:\n",
    "    print(\"At least one condition is True.\")\n",
    "else:\n",
    "    print(\"Both conditions are False.\")\n",
    "\n",
    "#for not operators\n",
    "\n",
    "x = 5\n",
    "\n",
    "# Reversing the condition\n",
    "if not x > 10:\n",
    "    print(\"x is not greater than 10.\")\n",
    "else:\n",
    "    print(\"x is greater than 10.\")\n",
    "    \n"
   ]
  },
  {
   "cell_type": "code",
   "execution_count": 1,
   "metadata": {},
   "outputs": [
    {
     "data": {
      "text/plain": [
       "12"
      ]
     },
     "execution_count": 1,
     "metadata": {},
     "output_type": "execute_result"
    }
   ],
   "source": [
    "9 #Write a Python program to convert user input from string to integer, float, and boolean types?\n",
    "a=\"5\"\n",
    "b=7\n",
    "int(a)+b\n"
   ]
  },
  {
   "cell_type": "code",
   "execution_count": 20,
   "metadata": {},
   "outputs": [
    {
     "name": "stdout",
     "output_type": "stream",
     "text": [
      "<class 'str'>\n",
      "<class 'int'>\n"
     ]
    }
   ],
   "source": [
    "a=input(\"Enter a value\")\n",
    "print (type(a))\n",
    "print(type(int(a)))"
   ]
  },
  {
   "cell_type": "code",
   "execution_count": 21,
   "metadata": {},
   "outputs": [
    {
     "data": {
      "text/plain": [
       "float"
      ]
     },
     "execution_count": 21,
     "metadata": {},
     "output_type": "execute_result"
    }
   ],
   "source": [
    "b=input(\"Enter a value\")\n",
    "str_value=float(b)\n",
    "type(str_value)"
   ]
  },
  {
   "cell_type": "code",
   "execution_count": 24,
   "metadata": {},
   "outputs": [],
   "source": [
    "C=input(\"Enter a value\")\n",
    "if C == str_value:\n",
    "    str_value==true \n",
    "    print(str_value)\n",
    "    print(type(str_value)) \n",
    "    "
   ]
  },
  {
   "cell_type": "code",
   "execution_count": 25,
   "metadata": {},
   "outputs": [
    {
     "data": {
      "text/plain": [
       "float"
      ]
     },
     "execution_count": 25,
     "metadata": {},
     "output_type": "execute_result"
    }
   ],
   "source": [
    "type(str_value)"
   ]
  },
  {
   "cell_type": "code",
   "execution_count": null,
   "metadata": {},
   "outputs": [],
   "source": [
    "10 #Write code to demonstrate type casting with list elements?\n",
    "#type casting of list elements\n",
    "a=\"5\"\n",
    "print (type(a))\n",
    "print(type(int(a))) #here with a value from str to int\n",
    "\n",
    "#str to float\n",
    "b=\"5\"\n",
    "str_value=float(b)\n",
    "type(str_value)\n",
    "\n",
    "#using boolean type\n",
    "a=1\n",
    "if bool(a)==True:\n",
    "    \n",
    "    print(\"True\")\n",
    "\n"
   ]
  },
  {
   "cell_type": "code",
   "execution_count": null,
   "metadata": {},
   "outputs": [],
   "source": [
    "11 #Write a program that checks if a number is positive, negative, or zero?\n",
    "Number = float(input(\"enter a number\"))\n",
    "if number > 0:\n",
    "    print(\"The number is Positive\")\n",
    "elif number < 0:\n",
    "    print(\"The number is Negative\")\n",
    "else:\n",
    "    print(\" Zero\")"
   ]
  },
  {
   "cell_type": "code",
   "execution_count": null,
   "metadata": {},
   "outputs": [],
   "source": [
    "\n",
    " 12 #Write a for loop to print numbers from 1 to 10?\n",
    "for i in range(1, 11):\n",
    "    print(f\"{i}\")"
   ]
  },
  {
   "cell_type": "code",
   "execution_count": 22,
   "metadata": {},
   "outputs": [
    {
     "name": "stdout",
     "output_type": "stream",
     "text": [
      "The sum of all even numbers between 1 and 50 is: 650\n"
     ]
    }
   ],
   "source": [
    " 13 #Write a Python program to find the sum of all even numbers between 1 and 50?\n",
    "sum_even_numbers = 0\n",
    "for number in range(1, 51):\n",
    "    if number % 2 == 0:  \n",
    "        sum_even_numbers += number\n",
    "print(f\"The sum of all even numbers between 1 and 50 is: {sum_even_numbers}\")"
   ]
  },
  {
   "cell_type": "code",
   "execution_count": null,
   "metadata": {},
   "outputs": [],
   "source": [
    "14 #Write a program to reverse a string using a while loop?\n",
    "def reverse_string(input_string):\n",
    "    reversed_string = \"\"  \n",
    "    index = len(input_string) - 1 \n",
    "    while index >= 0:\n",
    "        reversed_string += input_string[index] \n",
    "        index -= 1\n",
    "    return reversed_string\n",
    "user_input = input(\"Enter a string to reverse: \")\n",
    "reversed_result = reverse_string(user_input)\n",
    "print(\"Reversed string:\", reversed_result)"
   ]
  },
  {
   "cell_type": "code",
   "execution_count": null,
   "metadata": {},
   "outputs": [],
   "source": [
    "15 #Write a Python program to calculate the factorial of a number provided by the user using a while loop?\n",
    "def calculate_factorial(n):\n",
    "    factorial = 1\n",
    "    while n > 0:\n",
    "        factorial *= n  \n",
    "        n -= 1 \n",
    "    return factorial\n",
    "num = int(input(\"Enter a number to calculate its factorial: \"))\n",
    "if num < 0:\n",
    "    print(\"Factorial is not defined for negative numbers.\")\n",
    "else:\n",
    "    result = calculate_factorial(num)\n",
    "    print(f\"The factorial of {num} is: {result}\")\n"
   ]
  },
  {
   "cell_type": "code",
   "execution_count": null,
   "metadata": {},
   "outputs": [],
   "source": []
  }
 ],
 "metadata": {
  "kernelspec": {
   "display_name": "Python 3",
   "language": "python",
   "name": "python3"
  },
  "language_info": {
   "codemirror_mode": {
    "name": "ipython",
    "version": 3
   },
   "file_extension": ".py",
   "mimetype": "text/x-python",
   "name": "python",
   "nbconvert_exporter": "python",
   "pygments_lexer": "ipython3",
   "version": "3.13.1"
  }
 },
 "nbformat": 4,
 "nbformat_minor": 2
}
